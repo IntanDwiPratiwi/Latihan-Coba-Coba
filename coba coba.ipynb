{
 "cells": [
  {
   "cell_type": "code",
   "execution_count": 1,
   "id": "7f46cf0c",
   "metadata": {},
   "outputs": [
    {
     "name": "stdout",
     "output_type": "stream",
     "text": [
      "42\n",
      "100000\n",
      "4200000\n"
     ]
    }
   ],
   "source": [
    "mahasiswa = 42\n",
    "uang_di_dompet = 100000\n",
    "print(mahasiswa)\n",
    "print(uang_di_dompet)\n",
    "print(mahasiswa*uang_di_dompet)"
   ]
  },
  {
   "cell_type": "code",
   "execution_count": 2,
   "id": "fd0a3674",
   "metadata": {},
   "outputs": [
    {
     "name": "stdout",
     "output_type": "stream",
     "text": [
      "Intan Pratiwi\n"
     ]
    }
   ],
   "source": [
    "nama_depan = 'Intan'\n",
    "nama_tengah = ' '\n",
    "nama_belakang = 'Pratiwi'\n",
    "print(nama_depan + nama_tengah + nama_belakang)"
   ]
  },
  {
   "cell_type": "code",
   "execution_count": 3,
   "id": "f495407b",
   "metadata": {},
   "outputs": [
    {
     "name": "stdout",
     "output_type": "stream",
     "text": [
      "siapakah nama anda ? intan\n",
      "Apakah kegiatan anda sekarang, intan? turu\n",
      "Semangat turu nya yah, intan!\n"
     ]
    }
   ],
   "source": [
    "nama = input(\"siapakah nama anda ? \")\n",
    "kegiatan = input('Apakah kegiatan anda sekarang, ' + nama +\"? \")\n",
    "print(\"Semangat \"+ kegiatan +\" nya yah, \" + nama + \"!\")\n"
   ]
  },
  {
   "cell_type": "code",
   "execution_count": 4,
   "id": "8a9bc116",
   "metadata": {},
   "outputs": [
    {
     "name": "stdout",
     "output_type": "stream",
     "text": [
      "Berapakah jumlah uang di domepet anda? 5000\n",
      "Berapakah jumlah uang anda di bank? 200000\n",
      "Total uang anda adalah Rp 205000\n"
     ]
    }
   ],
   "source": [
    "uang_di_dompet = input(\"Berapakah jumlah uang di domepet anda? \")\n",
    "uang_di_bank = input(\"Berapakah jumlah uang anda di bank? \")\n",
    "total_uang = int(uang_di_dompet) + int(uang_di_bank)\n",
    "print(\"Total uang anda adalah Rp \"+ str(total_uang))"
   ]
  },
  {
   "cell_type": "code",
   "execution_count": 1,
   "id": "e254d1b6",
   "metadata": {},
   "outputs": [
    {
     "name": "stdout",
     "output_type": "stream",
     "text": [
      "Ani adalah seorang dosen di Universitas Udayana.\n"
     ]
    }
   ],
   "source": [
    "nama = \"Ani\"\n",
    "pekerjaan = \"dosen\"\n",
    "institusi = \"Universitas Udayana\"\n",
    "print(f\"{nama} adalah seorang {pekerjaan} di {institusi}.\")"
   ]
  },
  {
   "cell_type": "code",
   "execution_count": 15,
   "id": "e6cca8a0",
   "metadata": {},
   "outputs": [
    {
     "name": "stdout",
     "output_type": "stream",
     "text": [
      "16\n",
      "True\n"
     ]
    }
   ],
   "source": [
    "judul = \"Bali Surga Dunia\"\n",
    "print(len(judul))\n",
    "judul.upper()\n",
    "judul.find(\"bali\")\n",
    "print(\"Bali\" in judul)"
   ]
  },
  {
   "cell_type": "code",
   "execution_count": 22,
   "id": "d3900d9e",
   "metadata": {},
   "outputs": [
    {
     "name": "stdout",
     "output_type": "stream",
     "text": [
      "True\n"
     ]
    }
   ],
   "source": [
    "buah_manggis = 10\n",
    "buah_mangga = 15\n",
    "print(buah_manggis > 8 and buah_mangga <20)"
   ]
  }
 ],
 "metadata": {
  "kernelspec": {
   "display_name": "Python 3 (ipykernel)",
   "language": "python",
   "name": "python3"
  },
  "language_info": {
   "codemirror_mode": {
    "name": "ipython",
    "version": 3
   },
   "file_extension": ".py",
   "mimetype": "text/x-python",
   "name": "python",
   "nbconvert_exporter": "python",
   "pygments_lexer": "ipython3",
   "version": "3.9.13"
  }
 },
 "nbformat": 4,
 "nbformat_minor": 5
}
